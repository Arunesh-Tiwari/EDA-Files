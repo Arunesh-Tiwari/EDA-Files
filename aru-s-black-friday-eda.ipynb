{
 "cells": [
  {
   "cell_type": "code",
   "execution_count": 1,
   "id": "4dbc0bb3",
   "metadata": {
    "_cell_guid": "b1076dfc-b9ad-4769-8c92-a6c4dae69d19",
    "_uuid": "8f2839f25d086af736a60e9eeb907d3b93b6e0e5",
    "execution": {
     "iopub.execute_input": "2023-05-31T13:19:40.454228Z",
     "iopub.status.busy": "2023-05-31T13:19:40.453801Z",
     "iopub.status.idle": "2023-05-31T13:19:40.478014Z",
     "shell.execute_reply": "2023-05-31T13:19:40.477142Z"
    },
    "papermill": {
     "duration": 0.045663,
     "end_time": "2023-05-31T13:19:40.480908",
     "exception": false,
     "start_time": "2023-05-31T13:19:40.435245",
     "status": "completed"
    },
    "tags": []
   },
   "outputs": [
    {
     "name": "stdout",
     "output_type": "stream",
     "text": [
      "/kaggle/input/black-friday/train.csv\n",
      "/kaggle/input/black-friday/test.csv\n"
     ]
    }
   ],
   "source": [
    "# This Python 3 environment comes with many helpful analytics libraries installed\n",
    "# It is defined by the kaggle/python Docker image: https://github.com/kaggle/docker-python\n",
    "# For example, here's several helpful packages to load\n",
    "\n",
    "import numpy as np # linear algebra\n",
    "import pandas as pd # data processing, CSV file I/O (e.g. pd.read_csv)\n",
    "\n",
    "# Input data files are available in the read-only \"../input/\" directory\n",
    "# For example, running this (by clicking run or pressing Shift+Enter) will list all files under the input directory\n",
    "\n",
    "import os\n",
    "for dirname, _, filenames in os.walk('/kaggle/input'):\n",
    "    for filename in filenames:\n",
    "        print(os.path.join(dirname, filename))\n",
    "\n",
    "%config Completer.use_jedi = False\n",
    "# You can write up to 20GB to the current directory (/kaggle/working/) that gets preserved as output when you create a version using \"Save & Run All\" \n",
    "# You can also write temporary files to /kaggle/temp/, but they won't be saved outside of the current session"
   ]
  },
  {
   "cell_type": "code",
   "execution_count": 2,
   "id": "bfec9862",
   "metadata": {
    "execution": {
     "iopub.execute_input": "2023-05-31T13:19:40.515484Z",
     "iopub.status.busy": "2023-05-31T13:19:40.514706Z",
     "iopub.status.idle": "2023-05-31T13:19:42.197333Z",
     "shell.execute_reply": "2023-05-31T13:19:42.195946Z"
    },
    "papermill": {
     "duration": 1.703159,
     "end_time": "2023-05-31T13:19:42.200238",
     "exception": false,
     "start_time": "2023-05-31T13:19:40.497079",
     "status": "completed"
    },
    "tags": []
   },
   "outputs": [],
   "source": [
    "import numpy as np\n",
    "import pandas as pd\n",
    "import matplotlib.pyplot as plt\n",
    "%matplotlib inline\n",
    "import seaborn as sns"
   ]
  },
  {
   "cell_type": "code",
   "execution_count": 3,
   "id": "88ad20c9",
   "metadata": {
    "execution": {
     "iopub.execute_input": "2023-05-31T13:19:42.234842Z",
     "iopub.status.busy": "2023-05-31T13:19:42.234406Z",
     "iopub.status.idle": "2023-05-31T13:19:43.576239Z",
     "shell.execute_reply": "2023-05-31T13:19:43.575044Z"
    },
    "papermill": {
     "duration": 1.362614,
     "end_time": "2023-05-31T13:19:43.579037",
     "exception": false,
     "start_time": "2023-05-31T13:19:42.216423",
     "status": "completed"
    },
    "tags": []
   },
   "outputs": [
    {
     "data": {
      "text/html": [
       "<div>\n",
       "<style scoped>\n",
       "    .dataframe tbody tr th:only-of-type {\n",
       "        vertical-align: middle;\n",
       "    }\n",
       "\n",
       "    .dataframe tbody tr th {\n",
       "        vertical-align: top;\n",
       "    }\n",
       "\n",
       "    .dataframe thead th {\n",
       "        text-align: right;\n",
       "    }\n",
       "</style>\n",
       "<table border=\"1\" class=\"dataframe\">\n",
       "  <thead>\n",
       "    <tr style=\"text-align: right;\">\n",
       "      <th></th>\n",
       "      <th>User_ID</th>\n",
       "      <th>Product_ID</th>\n",
       "      <th>Gender</th>\n",
       "      <th>Age</th>\n",
       "      <th>Occupation</th>\n",
       "      <th>City_Category</th>\n",
       "      <th>Stay_In_Current_City_Years</th>\n",
       "      <th>Marital_Status</th>\n",
       "      <th>Product_Category_1</th>\n",
       "      <th>Product_Category_2</th>\n",
       "      <th>Product_Category_3</th>\n",
       "      <th>Purchase</th>\n",
       "    </tr>\n",
       "  </thead>\n",
       "  <tbody>\n",
       "    <tr>\n",
       "      <th>0</th>\n",
       "      <td>1000001</td>\n",
       "      <td>P00069042</td>\n",
       "      <td>F</td>\n",
       "      <td>0-17</td>\n",
       "      <td>10</td>\n",
       "      <td>A</td>\n",
       "      <td>2</td>\n",
       "      <td>0</td>\n",
       "      <td>3</td>\n",
       "      <td>NaN</td>\n",
       "      <td>NaN</td>\n",
       "      <td>8370</td>\n",
       "    </tr>\n",
       "    <tr>\n",
       "      <th>1</th>\n",
       "      <td>1000001</td>\n",
       "      <td>P00248942</td>\n",
       "      <td>F</td>\n",
       "      <td>0-17</td>\n",
       "      <td>10</td>\n",
       "      <td>A</td>\n",
       "      <td>2</td>\n",
       "      <td>0</td>\n",
       "      <td>1</td>\n",
       "      <td>6.0</td>\n",
       "      <td>14.0</td>\n",
       "      <td>15200</td>\n",
       "    </tr>\n",
       "    <tr>\n",
       "      <th>2</th>\n",
       "      <td>1000001</td>\n",
       "      <td>P00087842</td>\n",
       "      <td>F</td>\n",
       "      <td>0-17</td>\n",
       "      <td>10</td>\n",
       "      <td>A</td>\n",
       "      <td>2</td>\n",
       "      <td>0</td>\n",
       "      <td>12</td>\n",
       "      <td>NaN</td>\n",
       "      <td>NaN</td>\n",
       "      <td>1422</td>\n",
       "    </tr>\n",
       "    <tr>\n",
       "      <th>3</th>\n",
       "      <td>1000001</td>\n",
       "      <td>P00085442</td>\n",
       "      <td>F</td>\n",
       "      <td>0-17</td>\n",
       "      <td>10</td>\n",
       "      <td>A</td>\n",
       "      <td>2</td>\n",
       "      <td>0</td>\n",
       "      <td>12</td>\n",
       "      <td>14.0</td>\n",
       "      <td>NaN</td>\n",
       "      <td>1057</td>\n",
       "    </tr>\n",
       "    <tr>\n",
       "      <th>4</th>\n",
       "      <td>1000002</td>\n",
       "      <td>P00285442</td>\n",
       "      <td>M</td>\n",
       "      <td>55+</td>\n",
       "      <td>16</td>\n",
       "      <td>C</td>\n",
       "      <td>4+</td>\n",
       "      <td>0</td>\n",
       "      <td>8</td>\n",
       "      <td>NaN</td>\n",
       "      <td>NaN</td>\n",
       "      <td>7969</td>\n",
       "    </tr>\n",
       "  </tbody>\n",
       "</table>\n",
       "</div>"
      ],
      "text/plain": [
       "   User_ID Product_ID Gender   Age  Occupation City_Category  \\\n",
       "0  1000001  P00069042      F  0-17          10             A   \n",
       "1  1000001  P00248942      F  0-17          10             A   \n",
       "2  1000001  P00087842      F  0-17          10             A   \n",
       "3  1000001  P00085442      F  0-17          10             A   \n",
       "4  1000002  P00285442      M   55+          16             C   \n",
       "\n",
       "  Stay_In_Current_City_Years  Marital_Status  Product_Category_1  \\\n",
       "0                          2               0                   3   \n",
       "1                          2               0                   1   \n",
       "2                          2               0                  12   \n",
       "3                          2               0                  12   \n",
       "4                         4+               0                   8   \n",
       "\n",
       "   Product_Category_2  Product_Category_3  Purchase  \n",
       "0                 NaN                 NaN      8370  \n",
       "1                 6.0                14.0     15200  \n",
       "2                 NaN                 NaN      1422  \n",
       "3                14.0                 NaN      1057  \n",
       "4                 NaN                 NaN      7969  "
      ]
     },
     "execution_count": 3,
     "metadata": {},
     "output_type": "execute_result"
    }
   ],
   "source": [
    "df_train=pd.read_csv('/kaggle/input/black-friday/train.csv')\n",
    "df_train.head()"
   ]
  },
  {
   "cell_type": "code",
   "execution_count": 4,
   "id": "ef19e9ae",
   "metadata": {
    "execution": {
     "iopub.execute_input": "2023-05-31T13:19:43.614489Z",
     "iopub.status.busy": "2023-05-31T13:19:43.614014Z",
     "iopub.status.idle": "2023-05-31T13:19:44.111587Z",
     "shell.execute_reply": "2023-05-31T13:19:44.110426Z"
    },
    "papermill": {
     "duration": 0.518243,
     "end_time": "2023-05-31T13:19:44.114141",
     "exception": false,
     "start_time": "2023-05-31T13:19:43.595898",
     "status": "completed"
    },
    "tags": []
   },
   "outputs": [
    {
     "data": {
      "text/html": [
       "<div>\n",
       "<style scoped>\n",
       "    .dataframe tbody tr th:only-of-type {\n",
       "        vertical-align: middle;\n",
       "    }\n",
       "\n",
       "    .dataframe tbody tr th {\n",
       "        vertical-align: top;\n",
       "    }\n",
       "\n",
       "    .dataframe thead th {\n",
       "        text-align: right;\n",
       "    }\n",
       "</style>\n",
       "<table border=\"1\" class=\"dataframe\">\n",
       "  <thead>\n",
       "    <tr style=\"text-align: right;\">\n",
       "      <th></th>\n",
       "      <th>User_ID</th>\n",
       "      <th>Product_ID</th>\n",
       "      <th>Gender</th>\n",
       "      <th>Age</th>\n",
       "      <th>Occupation</th>\n",
       "      <th>City_Category</th>\n",
       "      <th>Stay_In_Current_City_Years</th>\n",
       "      <th>Marital_Status</th>\n",
       "      <th>Product_Category_1</th>\n",
       "      <th>Product_Category_2</th>\n",
       "      <th>Product_Category_3</th>\n",
       "    </tr>\n",
       "  </thead>\n",
       "  <tbody>\n",
       "    <tr>\n",
       "      <th>0</th>\n",
       "      <td>1000004</td>\n",
       "      <td>P00128942</td>\n",
       "      <td>M</td>\n",
       "      <td>46-50</td>\n",
       "      <td>7</td>\n",
       "      <td>B</td>\n",
       "      <td>2</td>\n",
       "      <td>1</td>\n",
       "      <td>1</td>\n",
       "      <td>11.0</td>\n",
       "      <td>NaN</td>\n",
       "    </tr>\n",
       "    <tr>\n",
       "      <th>1</th>\n",
       "      <td>1000009</td>\n",
       "      <td>P00113442</td>\n",
       "      <td>M</td>\n",
       "      <td>26-35</td>\n",
       "      <td>17</td>\n",
       "      <td>C</td>\n",
       "      <td>0</td>\n",
       "      <td>0</td>\n",
       "      <td>3</td>\n",
       "      <td>5.0</td>\n",
       "      <td>NaN</td>\n",
       "    </tr>\n",
       "    <tr>\n",
       "      <th>2</th>\n",
       "      <td>1000010</td>\n",
       "      <td>P00288442</td>\n",
       "      <td>F</td>\n",
       "      <td>36-45</td>\n",
       "      <td>1</td>\n",
       "      <td>B</td>\n",
       "      <td>4+</td>\n",
       "      <td>1</td>\n",
       "      <td>5</td>\n",
       "      <td>14.0</td>\n",
       "      <td>NaN</td>\n",
       "    </tr>\n",
       "    <tr>\n",
       "      <th>3</th>\n",
       "      <td>1000010</td>\n",
       "      <td>P00145342</td>\n",
       "      <td>F</td>\n",
       "      <td>36-45</td>\n",
       "      <td>1</td>\n",
       "      <td>B</td>\n",
       "      <td>4+</td>\n",
       "      <td>1</td>\n",
       "      <td>4</td>\n",
       "      <td>9.0</td>\n",
       "      <td>NaN</td>\n",
       "    </tr>\n",
       "    <tr>\n",
       "      <th>4</th>\n",
       "      <td>1000011</td>\n",
       "      <td>P00053842</td>\n",
       "      <td>F</td>\n",
       "      <td>26-35</td>\n",
       "      <td>1</td>\n",
       "      <td>C</td>\n",
       "      <td>1</td>\n",
       "      <td>0</td>\n",
       "      <td>4</td>\n",
       "      <td>5.0</td>\n",
       "      <td>12.0</td>\n",
       "    </tr>\n",
       "  </tbody>\n",
       "</table>\n",
       "</div>"
      ],
      "text/plain": [
       "   User_ID Product_ID Gender    Age  Occupation City_Category  \\\n",
       "0  1000004  P00128942      M  46-50           7             B   \n",
       "1  1000009  P00113442      M  26-35          17             C   \n",
       "2  1000010  P00288442      F  36-45           1             B   \n",
       "3  1000010  P00145342      F  36-45           1             B   \n",
       "4  1000011  P00053842      F  26-35           1             C   \n",
       "\n",
       "  Stay_In_Current_City_Years  Marital_Status  Product_Category_1  \\\n",
       "0                          2               1                   1   \n",
       "1                          0               0                   3   \n",
       "2                         4+               1                   5   \n",
       "3                         4+               1                   4   \n",
       "4                          1               0                   4   \n",
       "\n",
       "   Product_Category_2  Product_Category_3  \n",
       "0                11.0                 NaN  \n",
       "1                 5.0                 NaN  \n",
       "2                14.0                 NaN  \n",
       "3                 9.0                 NaN  \n",
       "4                 5.0                12.0  "
      ]
     },
     "execution_count": 4,
     "metadata": {},
     "output_type": "execute_result"
    }
   ],
   "source": [
    "df_test=pd.read_csv('/kaggle/input/black-friday/test.csv')\n",
    "df_test.head()"
   ]
  },
  {
   "cell_type": "code",
   "execution_count": 5,
   "id": "298ba8d6",
   "metadata": {
    "execution": {
     "iopub.execute_input": "2023-05-31T13:19:44.149262Z",
     "iopub.status.busy": "2023-05-31T13:19:44.148799Z",
     "iopub.status.idle": "2023-05-31T13:19:44.154668Z",
     "shell.execute_reply": "2023-05-31T13:19:44.153591Z"
    },
    "papermill": {
     "duration": 0.026274,
     "end_time": "2023-05-31T13:19:44.157316",
     "exception": false,
     "start_time": "2023-05-31T13:19:44.131042",
     "status": "completed"
    },
    "tags": []
   },
   "outputs": [
    {
     "name": "stdout",
     "output_type": "stream",
     "text": [
      "(233599, 11)\n",
      "(550068, 12)\n"
     ]
    }
   ],
   "source": [
    "print(df_test.shape)\n",
    "print(df_train.shape)"
   ]
  },
  {
   "cell_type": "code",
   "execution_count": 6,
   "id": "bcab320e",
   "metadata": {
    "execution": {
     "iopub.execute_input": "2023-05-31T13:19:44.193030Z",
     "iopub.status.busy": "2023-05-31T13:19:44.192547Z",
     "iopub.status.idle": "2023-05-31T13:19:44.328055Z",
     "shell.execute_reply": "2023-05-31T13:19:44.326208Z"
    },
    "papermill": {
     "duration": 0.157967,
     "end_time": "2023-05-31T13:19:44.331918",
     "exception": false,
     "start_time": "2023-05-31T13:19:44.173951",
     "status": "completed"
    },
    "tags": []
   },
   "outputs": [
    {
     "name": "stderr",
     "output_type": "stream",
     "text": [
      "/tmp/ipykernel_20/3831971621.py:2: FutureWarning: The frame.append method is deprecated and will be removed from pandas in a future version. Use pandas.concat instead.\n",
      "  df=df_train.append(df_test)\n"
     ]
    },
    {
     "data": {
      "text/html": [
       "<div>\n",
       "<style scoped>\n",
       "    .dataframe tbody tr th:only-of-type {\n",
       "        vertical-align: middle;\n",
       "    }\n",
       "\n",
       "    .dataframe tbody tr th {\n",
       "        vertical-align: top;\n",
       "    }\n",
       "\n",
       "    .dataframe thead th {\n",
       "        text-align: right;\n",
       "    }\n",
       "</style>\n",
       "<table border=\"1\" class=\"dataframe\">\n",
       "  <thead>\n",
       "    <tr style=\"text-align: right;\">\n",
       "      <th></th>\n",
       "      <th>User_ID</th>\n",
       "      <th>Product_ID</th>\n",
       "      <th>Gender</th>\n",
       "      <th>Age</th>\n",
       "      <th>Occupation</th>\n",
       "      <th>City_Category</th>\n",
       "      <th>Stay_In_Current_City_Years</th>\n",
       "      <th>Marital_Status</th>\n",
       "      <th>Product_Category_1</th>\n",
       "      <th>Product_Category_2</th>\n",
       "      <th>Product_Category_3</th>\n",
       "      <th>Purchase</th>\n",
       "    </tr>\n",
       "  </thead>\n",
       "  <tbody>\n",
       "    <tr>\n",
       "      <th>0</th>\n",
       "      <td>1000001</td>\n",
       "      <td>P00069042</td>\n",
       "      <td>F</td>\n",
       "      <td>0-17</td>\n",
       "      <td>10</td>\n",
       "      <td>A</td>\n",
       "      <td>2</td>\n",
       "      <td>0</td>\n",
       "      <td>3</td>\n",
       "      <td>NaN</td>\n",
       "      <td>NaN</td>\n",
       "      <td>8370.0</td>\n",
       "    </tr>\n",
       "    <tr>\n",
       "      <th>1</th>\n",
       "      <td>1000001</td>\n",
       "      <td>P00248942</td>\n",
       "      <td>F</td>\n",
       "      <td>0-17</td>\n",
       "      <td>10</td>\n",
       "      <td>A</td>\n",
       "      <td>2</td>\n",
       "      <td>0</td>\n",
       "      <td>1</td>\n",
       "      <td>6.0</td>\n",
       "      <td>14.0</td>\n",
       "      <td>15200.0</td>\n",
       "    </tr>\n",
       "    <tr>\n",
       "      <th>2</th>\n",
       "      <td>1000001</td>\n",
       "      <td>P00087842</td>\n",
       "      <td>F</td>\n",
       "      <td>0-17</td>\n",
       "      <td>10</td>\n",
       "      <td>A</td>\n",
       "      <td>2</td>\n",
       "      <td>0</td>\n",
       "      <td>12</td>\n",
       "      <td>NaN</td>\n",
       "      <td>NaN</td>\n",
       "      <td>1422.0</td>\n",
       "    </tr>\n",
       "    <tr>\n",
       "      <th>3</th>\n",
       "      <td>1000001</td>\n",
       "      <td>P00085442</td>\n",
       "      <td>F</td>\n",
       "      <td>0-17</td>\n",
       "      <td>10</td>\n",
       "      <td>A</td>\n",
       "      <td>2</td>\n",
       "      <td>0</td>\n",
       "      <td>12</td>\n",
       "      <td>14.0</td>\n",
       "      <td>NaN</td>\n",
       "      <td>1057.0</td>\n",
       "    </tr>\n",
       "    <tr>\n",
       "      <th>4</th>\n",
       "      <td>1000002</td>\n",
       "      <td>P00285442</td>\n",
       "      <td>M</td>\n",
       "      <td>55+</td>\n",
       "      <td>16</td>\n",
       "      <td>C</td>\n",
       "      <td>4+</td>\n",
       "      <td>0</td>\n",
       "      <td>8</td>\n",
       "      <td>NaN</td>\n",
       "      <td>NaN</td>\n",
       "      <td>7969.0</td>\n",
       "    </tr>\n",
       "  </tbody>\n",
       "</table>\n",
       "</div>"
      ],
      "text/plain": [
       "   User_ID Product_ID Gender   Age  Occupation City_Category  \\\n",
       "0  1000001  P00069042      F  0-17          10             A   \n",
       "1  1000001  P00248942      F  0-17          10             A   \n",
       "2  1000001  P00087842      F  0-17          10             A   \n",
       "3  1000001  P00085442      F  0-17          10             A   \n",
       "4  1000002  P00285442      M   55+          16             C   \n",
       "\n",
       "  Stay_In_Current_City_Years  Marital_Status  Product_Category_1  \\\n",
       "0                          2               0                   3   \n",
       "1                          2               0                   1   \n",
       "2                          2               0                  12   \n",
       "3                          2               0                  12   \n",
       "4                         4+               0                   8   \n",
       "\n",
       "   Product_Category_2  Product_Category_3  Purchase  \n",
       "0                 NaN                 NaN    8370.0  \n",
       "1                 6.0                14.0   15200.0  \n",
       "2                 NaN                 NaN    1422.0  \n",
       "3                14.0                 NaN    1057.0  \n",
       "4                 NaN                 NaN    7969.0  "
      ]
     },
     "execution_count": 6,
     "metadata": {},
     "output_type": "execute_result"
    }
   ],
   "source": [
    "## Merge both train and test data\n",
    "df=df_train.append(df_test)\n",
    "df.head()"
   ]
  },
  {
   "cell_type": "code",
   "execution_count": 7,
   "id": "5c8701f7",
   "metadata": {
    "execution": {
     "iopub.execute_input": "2023-05-31T13:19:44.369261Z",
     "iopub.status.busy": "2023-05-31T13:19:44.368455Z",
     "iopub.status.idle": "2023-05-31T13:19:44.459263Z",
     "shell.execute_reply": "2023-05-31T13:19:44.457894Z"
    },
    "papermill": {
     "duration": 0.112787,
     "end_time": "2023-05-31T13:19:44.462604",
     "exception": false,
     "start_time": "2023-05-31T13:19:44.349817",
     "status": "completed"
    },
    "tags": []
   },
   "outputs": [],
   "source": [
    "df.drop(['User_ID'], axis = 1, inplace = True)"
   ]
  },
  {
   "cell_type": "code",
   "execution_count": 8,
   "id": "bb771a77",
   "metadata": {
    "execution": {
     "iopub.execute_input": "2023-05-31T13:19:44.499015Z",
     "iopub.status.busy": "2023-05-31T13:19:44.498554Z",
     "iopub.status.idle": "2023-05-31T13:19:44.506008Z",
     "shell.execute_reply": "2023-05-31T13:19:44.504854Z"
    },
    "papermill": {
     "duration": 0.028574,
     "end_time": "2023-05-31T13:19:44.508728",
     "exception": false,
     "start_time": "2023-05-31T13:19:44.480154",
     "status": "completed"
    },
    "tags": []
   },
   "outputs": [
    {
     "data": {
      "text/plain": [
       "8620337"
      ]
     },
     "execution_count": 8,
     "metadata": {},
     "output_type": "execute_result"
    }
   ],
   "source": [
    "df.size"
   ]
  },
  {
   "cell_type": "code",
   "execution_count": 9,
   "id": "0af5ee70",
   "metadata": {
    "execution": {
     "iopub.execute_input": "2023-05-31T13:19:44.545519Z",
     "iopub.status.busy": "2023-05-31T13:19:44.545044Z",
     "iopub.status.idle": "2023-05-31T13:19:45.796332Z",
     "shell.execute_reply": "2023-05-31T13:19:45.794907Z"
    },
    "papermill": {
     "duration": 1.272771,
     "end_time": "2023-05-31T13:19:45.799260",
     "exception": false,
     "start_time": "2023-05-31T13:19:44.526489",
     "status": "completed"
    },
    "tags": []
   },
   "outputs": [
    {
     "name": "stdout",
     "output_type": "stream",
     "text": [
      "<class 'pandas.core.frame.DataFrame'>\n",
      "Int64Index: 783667 entries, 0 to 233598\n",
      "Data columns (total 11 columns):\n",
      " #   Column                      Non-Null Count   Dtype  \n",
      "---  ------                      --------------   -----  \n",
      " 0   Product_ID                  783667 non-null  object \n",
      " 1   Gender                      783667 non-null  object \n",
      " 2   Age                         783667 non-null  object \n",
      " 3   Occupation                  783667 non-null  int64  \n",
      " 4   City_Category               783667 non-null  object \n",
      " 5   Stay_In_Current_City_Years  783667 non-null  object \n",
      " 6   Marital_Status              783667 non-null  int64  \n",
      " 7   Product_Category_1          783667 non-null  int64  \n",
      " 8   Product_Category_2          537685 non-null  float64\n",
      " 9   Product_Category_3          237858 non-null  float64\n",
      " 10  Purchase                    550068 non-null  float64\n",
      "dtypes: float64(3), int64(3), object(5)\n",
      "memory usage: 71.7+ MB\n"
     ]
    }
   ],
   "source": [
    "df.info()"
   ]
  },
  {
   "cell_type": "code",
   "execution_count": 10,
   "id": "e28356f8",
   "metadata": {
    "execution": {
     "iopub.execute_input": "2023-05-31T13:19:45.836073Z",
     "iopub.status.busy": "2023-05-31T13:19:45.835658Z",
     "iopub.status.idle": "2023-05-31T13:19:46.184431Z",
     "shell.execute_reply": "2023-05-31T13:19:46.183194Z"
    },
    "papermill": {
     "duration": 0.370137,
     "end_time": "2023-05-31T13:19:46.186994",
     "exception": false,
     "start_time": "2023-05-31T13:19:45.816857",
     "status": "completed"
    },
    "tags": []
   },
   "outputs": [
    {
     "data": {
      "text/html": [
       "<div>\n",
       "<style scoped>\n",
       "    .dataframe tbody tr th:only-of-type {\n",
       "        vertical-align: middle;\n",
       "    }\n",
       "\n",
       "    .dataframe tbody tr th {\n",
       "        vertical-align: top;\n",
       "    }\n",
       "\n",
       "    .dataframe thead th {\n",
       "        text-align: right;\n",
       "    }\n",
       "</style>\n",
       "<table border=\"1\" class=\"dataframe\">\n",
       "  <thead>\n",
       "    <tr style=\"text-align: right;\">\n",
       "      <th></th>\n",
       "      <th>count</th>\n",
       "      <th>mean</th>\n",
       "      <th>std</th>\n",
       "      <th>min</th>\n",
       "      <th>25%</th>\n",
       "      <th>50%</th>\n",
       "      <th>75%</th>\n",
       "      <th>max</th>\n",
       "    </tr>\n",
       "  </thead>\n",
       "  <tbody>\n",
       "    <tr>\n",
       "      <th>Occupation</th>\n",
       "      <td>783667.0</td>\n",
       "      <td>8.079300</td>\n",
       "      <td>6.522206</td>\n",
       "      <td>0.0</td>\n",
       "      <td>2.0</td>\n",
       "      <td>7.0</td>\n",
       "      <td>14.0</td>\n",
       "      <td>20.0</td>\n",
       "    </tr>\n",
       "    <tr>\n",
       "      <th>Marital_Status</th>\n",
       "      <td>783667.0</td>\n",
       "      <td>0.409777</td>\n",
       "      <td>0.491793</td>\n",
       "      <td>0.0</td>\n",
       "      <td>0.0</td>\n",
       "      <td>0.0</td>\n",
       "      <td>1.0</td>\n",
       "      <td>1.0</td>\n",
       "    </tr>\n",
       "    <tr>\n",
       "      <th>Product_Category_1</th>\n",
       "      <td>783667.0</td>\n",
       "      <td>5.366196</td>\n",
       "      <td>3.878160</td>\n",
       "      <td>1.0</td>\n",
       "      <td>1.0</td>\n",
       "      <td>5.0</td>\n",
       "      <td>8.0</td>\n",
       "      <td>20.0</td>\n",
       "    </tr>\n",
       "    <tr>\n",
       "      <th>Product_Category_2</th>\n",
       "      <td>537685.0</td>\n",
       "      <td>9.844506</td>\n",
       "      <td>5.089093</td>\n",
       "      <td>2.0</td>\n",
       "      <td>5.0</td>\n",
       "      <td>9.0</td>\n",
       "      <td>15.0</td>\n",
       "      <td>18.0</td>\n",
       "    </tr>\n",
       "    <tr>\n",
       "      <th>Product_Category_3</th>\n",
       "      <td>237858.0</td>\n",
       "      <td>12.668605</td>\n",
       "      <td>4.125510</td>\n",
       "      <td>3.0</td>\n",
       "      <td>9.0</td>\n",
       "      <td>14.0</td>\n",
       "      <td>16.0</td>\n",
       "      <td>18.0</td>\n",
       "    </tr>\n",
       "    <tr>\n",
       "      <th>Purchase</th>\n",
       "      <td>550068.0</td>\n",
       "      <td>9263.968713</td>\n",
       "      <td>5023.065394</td>\n",
       "      <td>12.0</td>\n",
       "      <td>5823.0</td>\n",
       "      <td>8047.0</td>\n",
       "      <td>12054.0</td>\n",
       "      <td>23961.0</td>\n",
       "    </tr>\n",
       "  </tbody>\n",
       "</table>\n",
       "</div>"
      ],
      "text/plain": [
       "                       count         mean          std   min     25%     50%  \\\n",
       "Occupation          783667.0     8.079300     6.522206   0.0     2.0     7.0   \n",
       "Marital_Status      783667.0     0.409777     0.491793   0.0     0.0     0.0   \n",
       "Product_Category_1  783667.0     5.366196     3.878160   1.0     1.0     5.0   \n",
       "Product_Category_2  537685.0     9.844506     5.089093   2.0     5.0     9.0   \n",
       "Product_Category_3  237858.0    12.668605     4.125510   3.0     9.0    14.0   \n",
       "Purchase            550068.0  9263.968713  5023.065394  12.0  5823.0  8047.0   \n",
       "\n",
       "                        75%      max  \n",
       "Occupation             14.0     20.0  \n",
       "Marital_Status          1.0      1.0  \n",
       "Product_Category_1      8.0     20.0  \n",
       "Product_Category_2     15.0     18.0  \n",
       "Product_Category_3     16.0     18.0  \n",
       "Purchase            12054.0  23961.0  "
      ]
     },
     "execution_count": 10,
     "metadata": {},
     "output_type": "execute_result"
    }
   ],
   "source": [
    "df.describe().transpose()"
   ]
  },
  {
   "cell_type": "code",
   "execution_count": 11,
   "id": "f76df6ba",
   "metadata": {
    "execution": {
     "iopub.execute_input": "2023-05-31T13:19:46.225035Z",
     "iopub.status.busy": "2023-05-31T13:19:46.223898Z",
     "iopub.status.idle": "2023-05-31T13:19:46.230868Z",
     "shell.execute_reply": "2023-05-31T13:19:46.229748Z"
    },
    "papermill": {
     "duration": 0.028892,
     "end_time": "2023-05-31T13:19:46.233835",
     "exception": false,
     "start_time": "2023-05-31T13:19:46.204943",
     "status": "completed"
    },
    "tags": []
   },
   "outputs": [
    {
     "data": {
      "text/plain": [
       "(783667, 11)"
      ]
     },
     "execution_count": 11,
     "metadata": {},
     "output_type": "execute_result"
    }
   ],
   "source": [
    "df.shape"
   ]
  },
  {
   "cell_type": "code",
   "execution_count": 12,
   "id": "08bdbe40",
   "metadata": {
    "execution": {
     "iopub.execute_input": "2023-05-31T13:19:46.272398Z",
     "iopub.status.busy": "2023-05-31T13:19:46.271830Z",
     "iopub.status.idle": "2023-05-31T13:19:46.846094Z",
     "shell.execute_reply": "2023-05-31T13:19:46.844917Z"
    },
    "papermill": {
     "duration": 0.596468,
     "end_time": "2023-05-31T13:19:46.848674",
     "exception": false,
     "start_time": "2023-05-31T13:19:46.252206",
     "status": "completed"
    },
    "tags": []
   },
   "outputs": [
    {
     "data": {
      "text/plain": [
       "15967"
      ]
     },
     "execution_count": 12,
     "metadata": {},
     "output_type": "execute_result"
    }
   ],
   "source": [
    "df.duplicated().sum()"
   ]
  },
  {
   "cell_type": "code",
   "execution_count": 13,
   "id": "61879faf",
   "metadata": {
    "execution": {
     "iopub.execute_input": "2023-05-31T13:19:46.886605Z",
     "iopub.status.busy": "2023-05-31T13:19:46.886100Z",
     "iopub.status.idle": "2023-05-31T13:19:47.722376Z",
     "shell.execute_reply": "2023-05-31T13:19:47.721139Z"
    },
    "papermill": {
     "duration": 0.859015,
     "end_time": "2023-05-31T13:19:47.725483",
     "exception": false,
     "start_time": "2023-05-31T13:19:46.866468",
     "status": "completed"
    },
    "tags": []
   },
   "outputs": [],
   "source": [
    "df = df.drop_duplicates()"
   ]
  },
  {
   "cell_type": "code",
   "execution_count": 14,
   "id": "7cef7924",
   "metadata": {
    "execution": {
     "iopub.execute_input": "2023-05-31T13:19:47.763669Z",
     "iopub.status.busy": "2023-05-31T13:19:47.763217Z",
     "iopub.status.idle": "2023-05-31T13:19:48.954415Z",
     "shell.execute_reply": "2023-05-31T13:19:48.953142Z"
    },
    "papermill": {
     "duration": 1.213549,
     "end_time": "2023-05-31T13:19:48.957322",
     "exception": false,
     "start_time": "2023-05-31T13:19:47.743773",
     "status": "completed"
    },
    "tags": []
   },
   "outputs": [
    {
     "data": {
      "text/plain": [
       "Product_ID                         0\n",
       "Gender                             0\n",
       "Age                                0\n",
       "Occupation                         0\n",
       "City_Category                      0\n",
       "Stay_In_Current_City_Years         0\n",
       "Marital_Status                     0\n",
       "Product_Category_1                 0\n",
       "Product_Category_2            242509\n",
       "Product_Category_3            536383\n",
       "Purchase                      217745\n",
       "dtype: int64"
      ]
     },
     "execution_count": 14,
     "metadata": {},
     "output_type": "execute_result"
    }
   ],
   "source": [
    "df.isnull().sum()"
   ]
  },
  {
   "cell_type": "code",
   "execution_count": 15,
   "id": "c368ea2c",
   "metadata": {
    "execution": {
     "iopub.execute_input": "2023-05-31T13:19:48.995968Z",
     "iopub.status.busy": "2023-05-31T13:19:48.995552Z",
     "iopub.status.idle": "2023-05-31T13:20:03.372288Z",
     "shell.execute_reply": "2023-05-31T13:20:03.371303Z"
    },
    "papermill": {
     "duration": 14.399839,
     "end_time": "2023-05-31T13:20:03.375154",
     "exception": false,
     "start_time": "2023-05-31T13:19:48.975315",
     "status": "completed"
    },
    "tags": []
   },
   "outputs": [
    {
     "data": {
      "text/plain": [
       "<Axes: >"
      ]
     },
     "execution_count": 15,
     "metadata": {},
     "output_type": "execute_result"
    },
    {
     "data": {
      "image/png": "[encoded data removed]",
      "text/plain": [
       "<Figure size 640x480 with 2 Axes>"
      ]
     },
     "metadata": {},
     "output_type": "display_data"
    }
   ],
   "source": [
    "sns.heatmap(df.isnull())"
   ]
  },
  {
   "cell_type": "code",
   "execution_count": 16,
   "id": "1b655bd6",
   "metadata": {
    "execution": {
     "iopub.execute_input": "2023-05-31T13:20:03.416725Z",
     "iopub.status.busy": "2023-05-31T13:20:03.415731Z",
     "iopub.status.idle": "2023-05-31T13:20:05.940302Z",
     "shell.execute_reply": "2023-05-31T13:20:05.939154Z"
    },
    "papermill": {
     "duration": 2.54819,
     "end_time": "2023-05-31T13:20:05.942967",
     "exception": false,
     "start_time": "2023-05-31T13:20:03.394777",
     "status": "completed"
    },
    "tags": []
   },
   "outputs": [
    {
     "name": "stderr",
     "output_type": "stream",
     "text": [
      "/tmp/ipykernel_20/1426775114.py:1: UserWarning: \n",
      "\n",
      "`distplot` is a deprecated function and will be removed in seaborn v0.14.0.\n",
      "\n",
      "Please adapt your code to use either `displot` (a figure-level function with\n",
      "similar flexibility) or `histplot` (an axes-level function for histograms).\n",
      "\n",
      "For a guide to updating your code to use the new functions, please see\n",
      "https://gist.github.com/mwaskom/de44147ed2974457ad6372750bbe5751\n",
      "\n",
      "  sns.distplot(df['Product_Category_2'])\n"
     ]
    },
    {
     "data": {
      "text/plain": [
       "<Axes: xlabel='Product_Category_2', ylabel='Density'>"
      ]
     },
     "execution_count": 16,
     "metadata": {},
     "output_type": "execute_result"
    },
    {
     "data": {
      "image/png": "[encoded data removed]",
      "text/plain": [
       "<Figure size 640x480 with 1 Axes>"
      ]
     },
     "metadata": {},
     "output_type": "display_data"
    }
   ],
   "source": [
    "sns.distplot(df['Product_Category_2'])"
   ]
  },
  {
   "cell_type": "code",
   "execution_count": 17,
   "id": "8bc8c6b2",
   "metadata": {
    "execution": {
     "iopub.execute_input": "2023-05-31T13:20:05.985283Z",
     "iopub.status.busy": "2023-05-31T13:20:05.984815Z",
     "iopub.status.idle": "2023-05-31T13:20:07.385083Z",
     "shell.execute_reply": "2023-05-31T13:20:07.383858Z"
    },
    "papermill": {
     "duration": 1.425063,
     "end_time": "2023-05-31T13:20:07.388214",
     "exception": false,
     "start_time": "2023-05-31T13:20:05.963151",
     "status": "completed"
    },
    "tags": []
   },
   "outputs": [
    {
     "name": "stderr",
     "output_type": "stream",
     "text": [
      "/tmp/ipykernel_20/758807245.py:1: UserWarning: \n",
      "\n",
      "`distplot` is a deprecated function and will be removed in seaborn v0.14.0.\n",
      "\n",
      "Please adapt your code to use either `displot` (a figure-level function with\n",
      "similar flexibility) or `histplot` (an axes-level function for histograms).\n",
      "\n",
      "For a guide to updating your code to use the new functions, please see\n",
      "https://gist.github.com/mwaskom/de44147ed2974457ad6372750bbe5751\n",
      "\n",
      "  sns.distplot(df['Product_Category_3'])\n"
     ]
    },
    {
     "data": {
      "text/plain": [
       "<Axes: xlabel='Product_Category_3', ylabel='Density'>"
      ]
     },
     "execution_count": 17,
     "metadata": {},
     "output_type": "execute_result"
    },
    {
     "data": {
      "image/png": "[encoded data removed]",
      "text/plain": [
       "<Figure size 640x480 with 1 Axes>"
      ]
     },
     "metadata": {},
     "output_type": "display_data"
    }
   ],
   "source": [
    "sns.distplot(df['Product_Category_3'])"
   ]
  },
  {
   "cell_type": "code",
   "execution_count": 18,
   "id": "ad91ffbe",
   "metadata": {
    "execution": {
     "iopub.execute_input": "2023-05-31T13:20:07.431511Z",
     "iopub.status.busy": "2023-05-31T13:20:07.431044Z",
     "iopub.status.idle": "2023-05-31T13:20:07.491504Z",
     "shell.execute_reply": "2023-05-31T13:20:07.490241Z"
    },
    "papermill": {
     "duration": 0.085208,
     "end_time": "2023-05-31T13:20:07.494104",
     "exception": false,
     "start_time": "2023-05-31T13:20:07.408896",
     "status": "completed"
    },
    "tags": []
   },
   "outputs": [
    {
     "data": {
      "text/html": [
       "<div>\n",
       "<style scoped>\n",
       "    .dataframe tbody tr th:only-of-type {\n",
       "        vertical-align: middle;\n",
       "    }\n",
       "\n",
       "    .dataframe tbody tr th {\n",
       "        vertical-align: top;\n",
       "    }\n",
       "\n",
       "    .dataframe thead th {\n",
       "        text-align: right;\n",
       "    }\n",
       "</style>\n",
       "<table border=\"1\" class=\"dataframe\">\n",
       "  <thead>\n",
       "    <tr style=\"text-align: right;\">\n",
       "      <th></th>\n",
       "      <th>Product_Category_2_mean</th>\n",
       "      <th>Product_Category_2</th>\n",
       "    </tr>\n",
       "  </thead>\n",
       "  <tbody>\n",
       "    <tr>\n",
       "      <th>0</th>\n",
       "      <td>9.856799</td>\n",
       "      <td>NaN</td>\n",
       "    </tr>\n",
       "    <tr>\n",
       "      <th>1</th>\n",
       "      <td>6.000000</td>\n",
       "      <td>6.0</td>\n",
       "    </tr>\n",
       "    <tr>\n",
       "      <th>2</th>\n",
       "      <td>9.856799</td>\n",
       "      <td>NaN</td>\n",
       "    </tr>\n",
       "    <tr>\n",
       "      <th>3</th>\n",
       "      <td>14.000000</td>\n",
       "      <td>14.0</td>\n",
       "    </tr>\n",
       "    <tr>\n",
       "      <th>4</th>\n",
       "      <td>9.856799</td>\n",
       "      <td>NaN</td>\n",
       "    </tr>\n",
       "    <tr>\n",
       "      <th>...</th>\n",
       "      <td>...</td>\n",
       "      <td>...</td>\n",
       "    </tr>\n",
       "    <tr>\n",
       "      <th>233594</th>\n",
       "      <td>9.856799</td>\n",
       "      <td>NaN</td>\n",
       "    </tr>\n",
       "    <tr>\n",
       "      <th>233595</th>\n",
       "      <td>8.000000</td>\n",
       "      <td>8.0</td>\n",
       "    </tr>\n",
       "    <tr>\n",
       "      <th>233596</th>\n",
       "      <td>5.000000</td>\n",
       "      <td>5.0</td>\n",
       "    </tr>\n",
       "    <tr>\n",
       "      <th>233597</th>\n",
       "      <td>16.000000</td>\n",
       "      <td>16.0</td>\n",
       "    </tr>\n",
       "    <tr>\n",
       "      <th>233598</th>\n",
       "      <td>5.000000</td>\n",
       "      <td>5.0</td>\n",
       "    </tr>\n",
       "  </tbody>\n",
       "</table>\n",
       "<p>767700 rows × 2 columns</p>\n",
       "</div>"
      ],
      "text/plain": [
       "        Product_Category_2_mean  Product_Category_2\n",
       "0                      9.856799                 NaN\n",
       "1                      6.000000                 6.0\n",
       "2                      9.856799                 NaN\n",
       "3                     14.000000                14.0\n",
       "4                      9.856799                 NaN\n",
       "...                         ...                 ...\n",
       "233594                 9.856799                 NaN\n",
       "233595                 8.000000                 8.0\n",
       "233596                 5.000000                 5.0\n",
       "233597                16.000000                16.0\n",
       "233598                 5.000000                 5.0\n",
       "\n",
       "[767700 rows x 2 columns]"
      ]
     },
     "execution_count": 18,
     "metadata": {},
     "output_type": "execute_result"
    }
   ],
   "source": [
    "df['Product_Category_2_mean'] = df['Product_Category_2'].fillna(df['Product_Category_2'].mean())\n",
    "df[['Product_Category_2_mean','Product_Category_2']]"
   ]
  },
  {
   "cell_type": "code",
   "execution_count": 19,
   "id": "6b68083d",
   "metadata": {
    "execution": {
     "iopub.execute_input": "2023-05-31T13:20:07.539023Z",
     "iopub.status.busy": "2023-05-31T13:20:07.538592Z",
     "iopub.status.idle": "2023-05-31T13:20:11.084168Z",
     "shell.execute_reply": "2023-05-31T13:20:11.082887Z"
    },
    "papermill": {
     "duration": 3.572258,
     "end_time": "2023-05-31T13:20:11.088104",
     "exception": false,
     "start_time": "2023-05-31T13:20:07.515846",
     "status": "completed"
    },
    "tags": []
   },
   "outputs": [
    {
     "name": "stderr",
     "output_type": "stream",
     "text": [
      "/tmp/ipykernel_20/4119239338.py:1: UserWarning: \n",
      "\n",
      "`distplot` is a deprecated function and will be removed in seaborn v0.14.0.\n",
      "\n",
      "Please adapt your code to use either `displot` (a figure-level function with\n",
      "similar flexibility) or `histplot` (an axes-level function for histograms).\n",
      "\n",
      "For a guide to updating your code to use the new functions, please see\n",
      "https://gist.github.com/mwaskom/de44147ed2974457ad6372750bbe5751\n",
      "\n",
      "  sns.distplot(df['Product_Category_2_mean'])\n"
     ]
    },
    {
     "data": {
      "text/plain": [
       "<Axes: xlabel='Product_Category_2_mean', ylabel='Density'>"
      ]
     },
     "execution_count": 19,
     "metadata": {},
     "output_type": "execute_result"
    },
    {
     "data": {
      "image/png": "[encoded data removed]",
      "text/plain": [
       "<Figure size 640x480 with 1 Axes>"
      ]
     },
     "metadata": {},
     "output_type": "display_data"
    }
   ],
   "source": [
    "sns.distplot(df['Product_Category_2_mean'])"
   ]
  },
  {
   "cell_type": "code",
   "execution_count": 20,
   "id": "5f6b7043",
   "metadata": {
    "execution": {
     "iopub.execute_input": "2023-05-31T13:20:11.134607Z",
     "iopub.status.busy": "2023-05-31T13:20:11.133882Z",
     "iopub.status.idle": "2023-05-31T13:20:11.197402Z",
     "shell.execute_reply": "2023-05-31T13:20:11.196105Z"
    },
    "papermill": {
     "duration": 0.090049,
     "end_time": "2023-05-31T13:20:11.200303",
     "exception": false,
     "start_time": "2023-05-31T13:20:11.110254",
     "status": "completed"
    },
    "tags": []
   },
   "outputs": [
    {
     "data": {
      "text/html": [
       "<div>\n",
       "<style scoped>\n",
       "    .dataframe tbody tr th:only-of-type {\n",
       "        vertical-align: middle;\n",
       "    }\n",
       "\n",
       "    .dataframe tbody tr th {\n",
       "        vertical-align: top;\n",
       "    }\n",
       "\n",
       "    .dataframe thead th {\n",
       "        text-align: right;\n",
       "    }\n",
       "</style>\n",
       "<table border=\"1\" class=\"dataframe\">\n",
       "  <thead>\n",
       "    <tr style=\"text-align: right;\">\n",
       "      <th></th>\n",
       "      <th>Product_Category_3_mean</th>\n",
       "      <th>Product_Category_3</th>\n",
       "    </tr>\n",
       "  </thead>\n",
       "  <tbody>\n",
       "    <tr>\n",
       "      <th>0</th>\n",
       "      <td>12.673336</td>\n",
       "      <td>NaN</td>\n",
       "    </tr>\n",
       "    <tr>\n",
       "      <th>1</th>\n",
       "      <td>14.000000</td>\n",
       "      <td>14.0</td>\n",
       "    </tr>\n",
       "    <tr>\n",
       "      <th>2</th>\n",
       "      <td>12.673336</td>\n",
       "      <td>NaN</td>\n",
       "    </tr>\n",
       "    <tr>\n",
       "      <th>3</th>\n",
       "      <td>12.673336</td>\n",
       "      <td>NaN</td>\n",
       "    </tr>\n",
       "    <tr>\n",
       "      <th>4</th>\n",
       "      <td>12.673336</td>\n",
       "      <td>NaN</td>\n",
       "    </tr>\n",
       "    <tr>\n",
       "      <th>...</th>\n",
       "      <td>...</td>\n",
       "      <td>...</td>\n",
       "    </tr>\n",
       "    <tr>\n",
       "      <th>233594</th>\n",
       "      <td>12.673336</td>\n",
       "      <td>NaN</td>\n",
       "    </tr>\n",
       "    <tr>\n",
       "      <th>233595</th>\n",
       "      <td>12.673336</td>\n",
       "      <td>NaN</td>\n",
       "    </tr>\n",
       "    <tr>\n",
       "      <th>233596</th>\n",
       "      <td>12.000000</td>\n",
       "      <td>12.0</td>\n",
       "    </tr>\n",
       "    <tr>\n",
       "      <th>233597</th>\n",
       "      <td>12.673336</td>\n",
       "      <td>NaN</td>\n",
       "    </tr>\n",
       "    <tr>\n",
       "      <th>233598</th>\n",
       "      <td>12.673336</td>\n",
       "      <td>NaN</td>\n",
       "    </tr>\n",
       "  </tbody>\n",
       "</table>\n",
       "<p>767700 rows × 2 columns</p>\n",
       "</div>"
      ],
      "text/plain": [
       "        Product_Category_3_mean  Product_Category_3\n",
       "0                     12.673336                 NaN\n",
       "1                     14.000000                14.0\n",
       "2                     12.673336                 NaN\n",
       "3                     12.673336                 NaN\n",
       "4                     12.673336                 NaN\n",
       "...                         ...                 ...\n",
       "233594                12.673336                 NaN\n",
       "233595                12.673336                 NaN\n",
       "233596                12.000000                12.0\n",
       "233597                12.673336                 NaN\n",
       "233598                12.673336                 NaN\n",
       "\n",
       "[767700 rows x 2 columns]"
      ]
     },
     "execution_count": 20,
     "metadata": {},
     "output_type": "execute_result"
    }
   ],
   "source": [
    "df['Product_Category_3_mean'] = df['Product_Category_3'].fillna(df['Product_Category_3'].mean())\n",
    "df[['Product_Category_3_mean','Product_Category_3']]"
   ]
  },
  {
   "cell_type": "code",
   "execution_count": 21,
   "id": "c149da29",
   "metadata": {
    "execution": {
     "iopub.execute_input": "2023-05-31T13:20:11.247049Z",
     "iopub.status.busy": "2023-05-31T13:20:11.246189Z",
     "iopub.status.idle": "2023-05-31T13:20:11.635389Z",
     "shell.execute_reply": "2023-05-31T13:20:11.634236Z"
    },
    "papermill": {
     "duration": 0.415689,
     "end_time": "2023-05-31T13:20:11.638243",
     "exception": false,
     "start_time": "2023-05-31T13:20:11.222554",
     "status": "completed"
    },
    "tags": []
   },
   "outputs": [
    {
     "name": "stdout",
     "output_type": "stream",
     "text": [
      "M    576035\n",
      "F    191665\n",
      "Name: Gender, dtype: int64\n"
     ]
    },
    {
     "data": {
      "image/png": "[encoded data removed]",
      "text/plain": [
       "<Figure size 1000x500 with 1 Axes>"
      ]
     },
     "metadata": {},
     "output_type": "display_data"
    }
   ],
   "source": [
    "gender_count = df['Gender'].value_counts()\n",
    "print(gender_count)\n",
    "\n",
    "plt.figure(figsize= (10,5))\n",
    "plt.bar(gender_count.index, gender_count.values)\n",
    "plt.xlabel('Gender')\n",
    "plt.ylabel('Count')\n",
    "plt.title('Gender Distribution Graph')\n",
    "plt.show()"
   ]
  },
  {
   "cell_type": "code",
   "execution_count": 22,
   "id": "87c38c2b",
   "metadata": {
    "execution": {
     "iopub.execute_input": "2023-05-31T13:20:11.686302Z",
     "iopub.status.busy": "2023-05-31T13:20:11.685407Z",
     "iopub.status.idle": "2023-05-31T13:20:11.754216Z",
     "shell.execute_reply": "2023-05-31T13:20:11.753120Z"
    },
    "papermill": {
     "duration": 0.095821,
     "end_time": "2023-05-31T13:20:11.757125",
     "exception": false,
     "start_time": "2023-05-31T13:20:11.661304",
     "status": "completed"
    },
    "tags": []
   },
   "outputs": [
    {
     "data": {
      "text/plain": [
       "array(['0-17', '55+', '26-35', '46-50', '51-55', '36-45', '18-25'],\n",
       "      dtype=object)"
      ]
     },
     "execution_count": 22,
     "metadata": {},
     "output_type": "execute_result"
    }
   ],
   "source": [
    "df['Age'].unique()"
   ]
  },
  {
   "cell_type": "code",
   "execution_count": 23,
   "id": "a491eba2",
   "metadata": {
    "execution": {
     "iopub.execute_input": "2023-05-31T13:20:11.804639Z",
     "iopub.status.busy": "2023-05-31T13:20:11.804190Z",
     "iopub.status.idle": "2023-05-31T13:20:12.241448Z",
     "shell.execute_reply": "2023-05-31T13:20:12.239945Z"
    },
    "papermill": {
     "duration": 0.464401,
     "end_time": "2023-05-31T13:20:12.244269",
     "exception": false,
     "start_time": "2023-05-31T13:20:11.779868",
     "status": "completed"
    },
    "tags": []
   },
   "outputs": [
    {
     "name": "stdout",
     "output_type": "stream",
     "text": [
      "26-35    305937\n",
      "36-45    154509\n",
      "18-25    136798\n",
      "46-50     64848\n",
      "51-55     54391\n",
      "55+       30405\n",
      "0-17      20812\n",
      "Name: Age, dtype: int64\n"
     ]
    },
    {
     "data": {
      "image/png": "[encoded data removed]",
      "text/plain": [
       "<Figure size 1000x500 with 1 Axes>"
      ]
     },
     "metadata": {},
     "output_type": "display_data"
    }
   ],
   "source": [
    "age_counts = df['Age'].value_counts()\n",
    "print(age_counts)\n",
    "\n",
    "plt.figure(figsize = (10,5))\n",
    "plt.bar(age_counts.index, age_counts.values)\n",
    "plt.xlabel('Age Group')\n",
    "plt.ylabel('Count')\n",
    "plt.title('Age Distribution')\n",
    "plt.show()"
   ]
  },
  {
   "cell_type": "code",
   "execution_count": 24,
   "id": "d50f2e3a",
   "metadata": {
    "execution": {
     "iopub.execute_input": "2023-05-31T13:20:12.294308Z",
     "iopub.status.busy": "2023-05-31T13:20:12.293135Z",
     "iopub.status.idle": "2023-05-31T13:20:12.303176Z",
     "shell.execute_reply": "2023-05-31T13:20:12.301956Z"
    },
    "papermill": {
     "duration": 0.037704,
     "end_time": "2023-05-31T13:20:12.305816",
     "exception": false,
     "start_time": "2023-05-31T13:20:12.268112",
     "status": "completed"
    },
    "tags": []
   },
   "outputs": [
    {
     "data": {
      "text/plain": [
       "0          0-17\n",
       "1          0-17\n",
       "2          0-17\n",
       "3          0-17\n",
       "4           55+\n",
       "          ...  \n",
       "233594    26-35\n",
       "233595    26-35\n",
       "233596    26-35\n",
       "233597    46-50\n",
       "233598    46-50\n",
       "Name: Age, Length: 767700, dtype: object"
      ]
     },
     "execution_count": 24,
     "metadata": {},
     "output_type": "execute_result"
    }
   ],
   "source": [
    "df['Age']"
   ]
  },
  {
   "cell_type": "code",
   "execution_count": 25,
   "id": "e6b46497",
   "metadata": {
    "execution": {
     "iopub.execute_input": "2023-05-31T13:20:12.356495Z",
     "iopub.status.busy": "2023-05-31T13:20:12.356033Z",
     "iopub.status.idle": "2023-05-31T13:20:12.855920Z",
     "shell.execute_reply": "2023-05-31T13:20:12.854662Z"
    },
    "papermill": {
     "duration": 0.528974,
     "end_time": "2023-05-31T13:20:12.858912",
     "exception": false,
     "start_time": "2023-05-31T13:20:12.329938",
     "status": "completed"
    },
    "tags": []
   },
   "outputs": [],
   "source": [
    "from sklearn.preprocessing import LabelEncoder\n",
    "label_encoder = LabelEncoder()\n",
    "temp = label_encoder.fit_transform(df['Age'])\n",
    "df['Age'] = pd.Series(temp)"
   ]
  },
  {
   "cell_type": "code",
   "execution_count": 26,
   "id": "73e43450",
   "metadata": {
    "execution": {
     "iopub.execute_input": "2023-05-31T13:20:12.909014Z",
     "iopub.status.busy": "2023-05-31T13:20:12.908530Z",
     "iopub.status.idle": "2023-05-31T13:20:12.921024Z",
     "shell.execute_reply": "2023-05-31T13:20:12.919795Z"
    },
    "papermill": {
     "duration": 0.040829,
     "end_time": "2023-05-31T13:20:12.923685",
     "exception": false,
     "start_time": "2023-05-31T13:20:12.882856",
     "status": "completed"
    },
    "tags": []
   },
   "outputs": [
    {
     "data": {
      "text/plain": [
       "array([0, 6, 2, 4, 5, 3, 1])"
      ]
     },
     "execution_count": 26,
     "metadata": {},
     "output_type": "execute_result"
    }
   ],
   "source": [
    "df['Age'].unique()"
   ]
  },
  {
   "cell_type": "code",
   "execution_count": 27,
   "id": "1a845933",
   "metadata": {
    "execution": {
     "iopub.execute_input": "2023-05-31T13:20:12.974300Z",
     "iopub.status.busy": "2023-05-31T13:20:12.973828Z",
     "iopub.status.idle": "2023-05-31T13:20:13.366715Z",
     "shell.execute_reply": "2023-05-31T13:20:13.365217Z"
    },
    "papermill": {
     "duration": 0.421848,
     "end_time": "2023-05-31T13:20:13.369457",
     "exception": false,
     "start_time": "2023-05-31T13:20:12.947609",
     "status": "completed"
    },
    "tags": []
   },
   "outputs": [
    {
     "name": "stdout",
     "output_type": "stream",
     "text": [
      "5     211779\n",
      "1     194795\n",
      "8     159891\n",
      "11     33989\n",
      "2      33471\n",
      "6      28634\n",
      "3      28133\n",
      "4      16481\n",
      "16     13731\n",
      "15      8832\n",
      "13      7823\n",
      "10      7207\n",
      "12      5548\n",
      "7       5318\n",
      "18      4384\n",
      "20      2543\n",
      "14      2177\n",
      "19      1572\n",
      "17       799\n",
      "9        593\n",
      "Name: Product_Category_1, dtype: int64\n"
     ]
    },
    {
     "data": {
      "image/png": "[encoded data removed]",
      "text/plain": [
       "<Figure size 1000x500 with 1 Axes>"
      ]
     },
     "metadata": {},
     "output_type": "display_data"
    }
   ],
   "source": [
    "product_cat_count = df['Product_Category_1'].value_counts()\n",
    "print(product_cat_count)\n",
    "\n",
    "plt.figure(figsize = (10,5))\n",
    "plt.bar(product_cat_count.index, product_cat_count.values)\n",
    "plt.xlabel('Product Category')\n",
    "plt.ylabel('Count')\n",
    "plt.title('Product Distribution')\n",
    "plt.show()"
   ]
  },
  {
   "cell_type": "code",
   "execution_count": 28,
   "id": "b1dec99e",
   "metadata": {
    "execution": {
     "iopub.execute_input": "2023-05-31T13:20:13.422094Z",
     "iopub.status.busy": "2023-05-31T13:20:13.421088Z",
     "iopub.status.idle": "2023-05-31T13:20:13.997641Z",
     "shell.execute_reply": "2023-05-31T13:20:13.996435Z"
    },
    "papermill": {
     "duration": 0.605571,
     "end_time": "2023-05-31T13:20:14.000618",
     "exception": false,
     "start_time": "2023-05-31T13:20:13.395047",
     "status": "completed"
    },
    "tags": []
   },
   "outputs": [
    {
     "name": "stdout",
     "output_type": "stream",
     "text": [
      "5     211779\n",
      "1     194795\n",
      "8     159891\n",
      "11     33989\n",
      "2      33471\n",
      "6      28634\n",
      "3      28133\n",
      "4      16481\n",
      "16     13731\n",
      "15      8832\n",
      "13      7823\n",
      "10      7207\n",
      "12      5548\n",
      "7       5318\n",
      "18      4384\n",
      "20      2543\n",
      "14      2177\n",
      "19      1572\n",
      "17       799\n",
      "9        593\n",
      "Name: Product_Category_1, dtype: int64\n"
     ]
    },
    {
     "data": {
      "image/png": "[encoded data removed]",
      "text/plain": [
       "<Figure size 1000x500 with 1 Axes>"
      ]
     },
     "metadata": {},
     "output_type": "display_data"
    }
   ],
   "source": [
    "product_cat2_count = df['Product_Category_2'].value_counts()\n",
    "print(product_cat_count)\n",
    "\n",
    "plt.figure(figsize = (10,5))\n",
    "plt.bar(product_cat2_count.index, product_cat2_count.values)\n",
    "plt.xlabel('Product Category 2')\n",
    "plt.ylabel('Count')\n",
    "plt.title('Product 2 Distribution')\n",
    "plt.show()"
   ]
  },
  {
   "cell_type": "code",
   "execution_count": 29,
   "id": "46fb667f",
   "metadata": {
    "execution": {
     "iopub.execute_input": "2023-05-31T13:20:14.052625Z",
     "iopub.status.busy": "2023-05-31T13:20:14.051774Z",
     "iopub.status.idle": "2023-05-31T13:20:14.401973Z",
     "shell.execute_reply": "2023-05-31T13:20:14.400703Z"
    },
    "papermill": {
     "duration": 0.37921,
     "end_time": "2023-05-31T13:20:14.404769",
     "exception": false,
     "start_time": "2023-05-31T13:20:14.025559",
     "status": "completed"
    },
    "tags": []
   },
   "outputs": [
    {
     "name": "stdout",
     "output_type": "stream",
     "text": [
      "5     211779\n",
      "1     194795\n",
      "8     159891\n",
      "11     33989\n",
      "2      33471\n",
      "6      28634\n",
      "3      28133\n",
      "4      16481\n",
      "16     13731\n",
      "15      8832\n",
      "13      7823\n",
      "10      7207\n",
      "12      5548\n",
      "7       5318\n",
      "18      4384\n",
      "20      2543\n",
      "14      2177\n",
      "19      1572\n",
      "17       799\n",
      "9        593\n",
      "Name: Product_Category_1, dtype: int64\n"
     ]
    },
    {
     "data": {
      "image/png": "[encoded data removed]",
      "text/plain": [
       "<Figure size 1000x500 with 1 Axes>"
      ]
     },
     "metadata": {},
     "output_type": "display_data"
    }
   ],
   "source": [
    "product_cat3_count = df['Product_Category_3'].value_counts()\n",
    "print(product_cat_count)\n",
    "\n",
    "plt.figure(figsize = (10,5))\n",
    "plt.bar(product_cat3_count.index, product_cat3_count.values)\n",
    "plt.xlabel('Product Category 3')\n",
    "plt.ylabel('Count')\n",
    "plt.title('Product 3 Distribution')\n",
    "plt.show()"
   ]
  },
  {
   "cell_type": "code",
   "execution_count": 30,
   "id": "1ac06249",
   "metadata": {
    "execution": {
     "iopub.execute_input": "2023-05-31T13:20:14.457374Z",
     "iopub.status.busy": "2023-05-31T13:20:14.456950Z",
     "iopub.status.idle": "2023-05-31T13:20:14.825323Z",
     "shell.execute_reply": "2023-05-31T13:20:14.823944Z"
    },
    "papermill": {
     "duration": 0.397846,
     "end_time": "2023-05-31T13:20:14.828138",
     "exception": false,
     "start_time": "2023-05-31T13:20:14.430292",
     "status": "completed"
    },
    "tags": []
   },
   "outputs": [
    {
     "data": {
      "image/png": "[encoded data removed]",
      "text/plain": [
       "<Figure size 1200x600 with 1 Axes>"
      ]
     },
     "metadata": {},
     "output_type": "display_data"
    }
   ],
   "source": [
    "avg_occ_purchase = df.groupby('Occupation')['Purchase'].mean()\n",
    "plt.figure(figsize=(12, 6))\n",
    "plt.bar(avg_occ_purchase.index, avg_occ_purchase.values)\n",
    "plt.xlabel('Occupation')\n",
    "plt.ylabel('Average Purchase Amount')\n",
    "plt.title('Average Purchase Amount by Occupation')\n",
    "plt.xticks(rotation=0)\n",
    "plt.show()"
   ]
  },
  {
   "cell_type": "code",
   "execution_count": 31,
   "id": "5f03e828",
   "metadata": {
    "execution": {
     "iopub.execute_input": "2023-05-31T13:20:14.881727Z",
     "iopub.status.busy": "2023-05-31T13:20:14.881262Z",
     "iopub.status.idle": "2023-05-31T13:20:14.995192Z",
     "shell.execute_reply": "2023-05-31T13:20:14.993798Z"
    },
    "papermill": {
     "duration": 0.143951,
     "end_time": "2023-05-31T13:20:14.997886",
     "exception": false,
     "start_time": "2023-05-31T13:20:14.853935",
     "status": "completed"
    },
    "tags": []
   },
   "outputs": [
    {
     "data": {
      "text/plain": [
       "0         0\n",
       "1         0\n",
       "2         0\n",
       "3         0\n",
       "4         1\n",
       "         ..\n",
       "233594    0\n",
       "233595    0\n",
       "233596    0\n",
       "233597    0\n",
       "233598    0\n",
       "Name: Gender, Length: 767700, dtype: uint8"
      ]
     },
     "execution_count": 31,
     "metadata": {},
     "output_type": "execute_result"
    }
   ],
   "source": [
    "df['Gender'] = pd.get_dummies(df['Gender'], drop_first = True)\n",
    "df['Gender']"
   ]
  },
  {
   "cell_type": "code",
   "execution_count": 32,
   "id": "9c81d5cd",
   "metadata": {
    "execution": {
     "iopub.execute_input": "2023-05-31T13:20:15.051704Z",
     "iopub.status.busy": "2023-05-31T13:20:15.051136Z",
     "iopub.status.idle": "2023-05-31T13:20:15.217523Z",
     "shell.execute_reply": "2023-05-31T13:20:15.216142Z"
    },
    "papermill": {
     "duration": 0.196663,
     "end_time": "2023-05-31T13:20:15.220368",
     "exception": false,
     "start_time": "2023-05-31T13:20:15.023705",
     "status": "completed"
    },
    "tags": []
   },
   "outputs": [
    {
     "data": {
      "text/html": [
       "<div>\n",
       "<style scoped>\n",
       "    .dataframe tbody tr th:only-of-type {\n",
       "        vertical-align: middle;\n",
       "    }\n",
       "\n",
       "    .dataframe tbody tr th {\n",
       "        vertical-align: top;\n",
       "    }\n",
       "\n",
       "    .dataframe thead th {\n",
       "        text-align: right;\n",
       "    }\n",
       "</style>\n",
       "<table border=\"1\" class=\"dataframe\">\n",
       "  <thead>\n",
       "    <tr style=\"text-align: right;\">\n",
       "      <th></th>\n",
       "      <th>Product_ID</th>\n",
       "      <th>Gender</th>\n",
       "      <th>Age</th>\n",
       "      <th>Occupation</th>\n",
       "      <th>City_Category</th>\n",
       "      <th>Stay_In_Current_City_Years</th>\n",
       "      <th>Marital_Status</th>\n",
       "      <th>Product_Category_1</th>\n",
       "      <th>Product_Category_2</th>\n",
       "      <th>Product_Category_3</th>\n",
       "      <th>Purchase</th>\n",
       "      <th>Product_Category_2_mean</th>\n",
       "      <th>Product_Category_3_mean</th>\n",
       "      <th>A</th>\n",
       "      <th>B</th>\n",
       "      <th>C</th>\n",
       "    </tr>\n",
       "  </thead>\n",
       "  <tbody>\n",
       "    <tr>\n",
       "      <th>0</th>\n",
       "      <td>P00069042</td>\n",
       "      <td>0</td>\n",
       "      <td>0</td>\n",
       "      <td>10</td>\n",
       "      <td>A</td>\n",
       "      <td>2</td>\n",
       "      <td>0</td>\n",
       "      <td>3</td>\n",
       "      <td>NaN</td>\n",
       "      <td>NaN</td>\n",
       "      <td>8370.0</td>\n",
       "      <td>9.856799</td>\n",
       "      <td>12.673336</td>\n",
       "      <td>1</td>\n",
       "      <td>0</td>\n",
       "      <td>0</td>\n",
       "    </tr>\n",
       "    <tr>\n",
       "      <th>1</th>\n",
       "      <td>P00248942</td>\n",
       "      <td>0</td>\n",
       "      <td>0</td>\n",
       "      <td>10</td>\n",
       "      <td>A</td>\n",
       "      <td>2</td>\n",
       "      <td>0</td>\n",
       "      <td>1</td>\n",
       "      <td>6.0</td>\n",
       "      <td>14.0</td>\n",
       "      <td>15200.0</td>\n",
       "      <td>6.000000</td>\n",
       "      <td>14.000000</td>\n",
       "      <td>1</td>\n",
       "      <td>0</td>\n",
       "      <td>0</td>\n",
       "    </tr>\n",
       "    <tr>\n",
       "      <th>2</th>\n",
       "      <td>P00087842</td>\n",
       "      <td>0</td>\n",
       "      <td>0</td>\n",
       "      <td>10</td>\n",
       "      <td>A</td>\n",
       "      <td>2</td>\n",
       "      <td>0</td>\n",
       "      <td>12</td>\n",
       "      <td>NaN</td>\n",
       "      <td>NaN</td>\n",
       "      <td>1422.0</td>\n",
       "      <td>9.856799</td>\n",
       "      <td>12.673336</td>\n",
       "      <td>1</td>\n",
       "      <td>0</td>\n",
       "      <td>0</td>\n",
       "    </tr>\n",
       "    <tr>\n",
       "      <th>3</th>\n",
       "      <td>P00085442</td>\n",
       "      <td>0</td>\n",
       "      <td>0</td>\n",
       "      <td>10</td>\n",
       "      <td>A</td>\n",
       "      <td>2</td>\n",
       "      <td>0</td>\n",
       "      <td>12</td>\n",
       "      <td>14.0</td>\n",
       "      <td>NaN</td>\n",
       "      <td>1057.0</td>\n",
       "      <td>14.000000</td>\n",
       "      <td>12.673336</td>\n",
       "      <td>1</td>\n",
       "      <td>0</td>\n",
       "      <td>0</td>\n",
       "    </tr>\n",
       "    <tr>\n",
       "      <th>4</th>\n",
       "      <td>P00285442</td>\n",
       "      <td>1</td>\n",
       "      <td>6</td>\n",
       "      <td>16</td>\n",
       "      <td>C</td>\n",
       "      <td>4+</td>\n",
       "      <td>0</td>\n",
       "      <td>8</td>\n",
       "      <td>NaN</td>\n",
       "      <td>NaN</td>\n",
       "      <td>7969.0</td>\n",
       "      <td>9.856799</td>\n",
       "      <td>12.673336</td>\n",
       "      <td>0</td>\n",
       "      <td>0</td>\n",
       "      <td>1</td>\n",
       "    </tr>\n",
       "  </tbody>\n",
       "</table>\n",
       "</div>"
      ],
      "text/plain": [
       "  Product_ID  Gender  Age  Occupation City_Category  \\\n",
       "0  P00069042       0    0          10             A   \n",
       "1  P00248942       0    0          10             A   \n",
       "2  P00087842       0    0          10             A   \n",
       "3  P00085442       0    0          10             A   \n",
       "4  P00285442       1    6          16             C   \n",
       "\n",
       "  Stay_In_Current_City_Years  Marital_Status  Product_Category_1  \\\n",
       "0                          2               0                   3   \n",
       "1                          2               0                   1   \n",
       "2                          2               0                  12   \n",
       "3                          2               0                  12   \n",
       "4                         4+               0                   8   \n",
       "\n",
       "   Product_Category_2  Product_Category_3  Purchase  Product_Category_2_mean  \\\n",
       "0                 NaN                 NaN    8370.0                 9.856799   \n",
       "1                 6.0                14.0   15200.0                 6.000000   \n",
       "2                 NaN                 NaN    1422.0                 9.856799   \n",
       "3                14.0                 NaN    1057.0                14.000000   \n",
       "4                 NaN                 NaN    7969.0                 9.856799   \n",
       "\n",
       "   Product_Category_3_mean  A  B  C  \n",
       "0                12.673336  1  0  0  \n",
       "1                14.000000  1  0  0  \n",
       "2                12.673336  1  0  0  \n",
       "3                12.673336  1  0  0  \n",
       "4                12.673336  0  0  1  "
      ]
     },
     "execution_count": 32,
     "metadata": {},
     "output_type": "execute_result"
    }
   ],
   "source": [
    "df = pd.concat([df,pd.get_dummies(df['City_Category'])], axis = 1)\n",
    "df.head()"
   ]
  },
  {
   "cell_type": "code",
   "execution_count": 33,
   "id": "830b3aa2",
   "metadata": {
    "execution": {
     "iopub.execute_input": "2023-05-31T13:20:15.276417Z",
     "iopub.status.busy": "2023-05-31T13:20:15.275960Z",
     "iopub.status.idle": "2023-05-31T13:20:16.321233Z",
     "shell.execute_reply": "2023-05-31T13:20:16.319574Z"
    },
    "papermill": {
     "duration": 1.076199,
     "end_time": "2023-05-31T13:20:16.323968",
     "exception": false,
     "start_time": "2023-05-31T13:20:15.247769",
     "status": "completed"
    },
    "tags": []
   },
   "outputs": [
    {
     "name": "stderr",
     "output_type": "stream",
     "text": [
      "/tmp/ipykernel_20/3428308413.py:1: FutureWarning: The default value of regex will change from True to False in a future version. In addition, single character regular expressions will *not* be treated as literal strings when regex=True.\n",
      "  df['Stay_In_Current_City_Years'] = df['Stay_In_Current_City_Years'].str.replace(\"+\",\"\")\n"
     ]
    },
    {
     "name": "stdout",
     "output_type": "stream",
     "text": [
      "<class 'pandas.core.frame.DataFrame'>\n",
      "Int64Index: 767700 entries, 0 to 233598\n",
      "Data columns (total 16 columns):\n",
      " #   Column                      Non-Null Count   Dtype  \n",
      "---  ------                      --------------   -----  \n",
      " 0   Product_ID                  767700 non-null  object \n",
      " 1   Gender                      767700 non-null  uint8  \n",
      " 2   Age                         767700 non-null  int64  \n",
      " 3   Occupation                  767700 non-null  int64  \n",
      " 4   City_Category               767700 non-null  object \n",
      " 5   Stay_In_Current_City_Years  767700 non-null  int64  \n",
      " 6   Marital_Status              767700 non-null  int64  \n",
      " 7   Product_Category_1          767700 non-null  int64  \n",
      " 8   Product_Category_2          525191 non-null  float64\n",
      " 9   Product_Category_3          231317 non-null  float64\n",
      " 10  Purchase                    549955 non-null  float64\n",
      " 11  Product_Category_2_mean     767700 non-null  float64\n",
      " 12  Product_Category_3_mean     767700 non-null  float64\n",
      " 13  A                           767700 non-null  uint8  \n",
      " 14  B                           767700 non-null  uint8  \n",
      " 15  C                           767700 non-null  uint8  \n",
      "dtypes: float64(5), int64(5), object(2), uint8(4)\n",
      "memory usage: 79.1+ MB\n"
     ]
    }
   ],
   "source": [
    "df['Stay_In_Current_City_Years'] = df['Stay_In_Current_City_Years'].str.replace(\"+\",\"\")\n",
    "df['Stay_In_Current_City_Years'] = df['Stay_In_Current_City_Years'].astype(int)\n",
    "df.info()"
   ]
  },
  {
   "cell_type": "code",
   "execution_count": 34,
   "id": "3ab38e7e",
   "metadata": {
    "execution": {
     "iopub.execute_input": "2023-05-31T13:20:16.380114Z",
     "iopub.status.busy": "2023-05-31T13:20:16.379682Z",
     "iopub.status.idle": "2023-05-31T13:20:16.941756Z",
     "shell.execute_reply": "2023-05-31T13:20:16.940538Z"
    },
    "papermill": {
     "duration": 0.593018,
     "end_time": "2023-05-31T13:20:16.944581",
     "exception": false,
     "start_time": "2023-05-31T13:20:16.351563",
     "status": "completed"
    },
    "tags": []
   },
   "outputs": [
    {
     "name": "stdout",
     "output_type": "stream",
     "text": [
      "<class 'pandas.core.frame.DataFrame'>\n",
      "Int64Index: 767700 entries, 0 to 233598\n",
      "Data columns (total 16 columns):\n",
      " #   Column                      Non-Null Count   Dtype  \n",
      "---  ------                      --------------   -----  \n",
      " 0   Product_ID                  767700 non-null  object \n",
      " 1   Gender                      767700 non-null  uint8  \n",
      " 2   Age                         767700 non-null  int64  \n",
      " 3   Occupation                  767700 non-null  int64  \n",
      " 4   City_Category               767700 non-null  object \n",
      " 5   Stay_In_Current_City_Years  767700 non-null  int64  \n",
      " 6   Marital_Status              767700 non-null  int64  \n",
      " 7   Product_Category_1          767700 non-null  int64  \n",
      " 8   Product_Category_2          525191 non-null  float64\n",
      " 9   Product_Category_3          231317 non-null  float64\n",
      " 10  Purchase                    549955 non-null  float64\n",
      " 11  Product_Category_2_mean     767700 non-null  float64\n",
      " 12  Product_Category_3_mean     767700 non-null  float64\n",
      " 13  A                           767700 non-null  int64  \n",
      " 14  B                           767700 non-null  int64  \n",
      " 15  C                           767700 non-null  int64  \n",
      "dtypes: float64(5), int64(8), object(2), uint8(1)\n",
      "memory usage: 94.4+ MB\n"
     ]
    }
   ],
   "source": [
    "df[['A','B','C']] = df[['A','B','C']].astype(int)\n",
    "df.info()"
   ]
  },
  {
   "cell_type": "code",
   "execution_count": 35,
   "id": "945e205f",
   "metadata": {
    "execution": {
     "iopub.execute_input": "2023-05-31T13:20:17.000698Z",
     "iopub.status.busy": "2023-05-31T13:20:16.999562Z",
     "iopub.status.idle": "2023-05-31T13:20:37.650920Z",
     "shell.execute_reply": "2023-05-31T13:20:37.649687Z"
    },
    "papermill": {
     "duration": 20.682397,
     "end_time": "2023-05-31T13:20:37.653787",
     "exception": false,
     "start_time": "2023-05-31T13:20:16.971390",
     "status": "completed"
    },
    "tags": []
   },
   "outputs": [
    {
     "data": {
      "text/plain": [
       "<Axes: xlabel='Age', ylabel='Purchase'>"
      ]
     },
     "execution_count": 35,
     "metadata": {},
     "output_type": "execute_result"
    },
    {
     "data": {
      "image/png": "[encoded data removed]",
      "text/plain": [
       "<Figure size 640x480 with 1 Axes>"
      ]
     },
     "metadata": {},
     "output_type": "display_data"
    }
   ],
   "source": [
    "sns.barplot(x='Age',y='Purchase', hue = 'Gender',data=df)"
   ]
  },
  {
   "cell_type": "code",
   "execution_count": 36,
   "id": "5366bb83",
   "metadata": {
    "execution": {
     "iopub.execute_input": "2023-05-31T13:20:37.712226Z",
     "iopub.status.busy": "2023-05-31T13:20:37.711806Z",
     "iopub.status.idle": "2023-05-31T13:20:57.496519Z",
     "shell.execute_reply": "2023-05-31T13:20:57.495153Z"
    },
    "papermill": {
     "duration": 19.816937,
     "end_time": "2023-05-31T13:20:57.499215",
     "exception": false,
     "start_time": "2023-05-31T13:20:37.682278",
     "status": "completed"
    },
    "tags": []
   },
   "outputs": [
    {
     "data": {
      "text/plain": [
       "<Axes: xlabel='Product_Category_2_mean', ylabel='Purchase'>"
      ]
     },
     "execution_count": 36,
     "metadata": {},
     "output_type": "execute_result"
    },
    {
     "data": {
      "image/png": "[encoded data removed]",
      "text/plain": [
       "<Figure size 1000x800 with 1 Axes>"
      ]
     },
     "metadata": {},
     "output_type": "display_data"
    }
   ],
   "source": [
    "plt.figure(figsize=(10,8))\n",
    "sns.barplot(x='Product_Category_2_mean', y='Purchase', hue='Gender', data=df)"
   ]
  },
  {
   "cell_type": "code",
   "execution_count": 37,
   "id": "fd1b21ed",
   "metadata": {
    "execution": {
     "iopub.execute_input": "2023-05-31T13:20:57.557257Z",
     "iopub.status.busy": "2023-05-31T13:20:57.556848Z",
     "iopub.status.idle": "2023-05-31T13:21:24.433983Z",
     "shell.execute_reply": "2023-05-31T13:21:24.432836Z"
    },
    "papermill": {
     "duration": 26.909433,
     "end_time": "2023-05-31T13:21:24.436872",
     "exception": false,
     "start_time": "2023-05-31T13:20:57.527439",
     "status": "completed"
    },
    "tags": []
   },
   "outputs": [
    {
     "data": {
      "text/plain": [
       "<Axes: xlabel='Product_Category_3_mean', ylabel='Purchase'>"
      ]
     },
     "execution_count": 37,
     "metadata": {},
     "output_type": "execute_result"
    },
    {
     "data": {
      "image/png": "[encoded data removed]",
      "text/plain": [
       "<Figure size 1000x800 with 1 Axes>"
      ]
     },
     "metadata": {},
     "output_type": "display_data"
    }
   ],
   "source": [
    "plt.figure(figsize=(10,8))\n",
    "sns.barplot(x='Product_Category_3_mean', y='Purchase', hue='Gender', data=df)"
   ]
  },
  {
   "cell_type": "code",
   "execution_count": 38,
   "id": "be4fe40e",
   "metadata": {
    "execution": {
     "iopub.execute_input": "2023-05-31T13:21:24.496297Z",
     "iopub.status.busy": "2023-05-31T13:21:24.495871Z",
     "iopub.status.idle": "2023-05-31T13:21:42.963236Z",
     "shell.execute_reply": "2023-05-31T13:21:42.962171Z"
    },
    "papermill": {
     "duration": 18.500305,
     "end_time": "2023-05-31T13:21:42.965855",
     "exception": false,
     "start_time": "2023-05-31T13:21:24.465550",
     "status": "completed"
    },
    "tags": []
   },
   "outputs": [
    {
     "data": {
      "text/plain": [
       "<Axes: xlabel='Occupation', ylabel='Purchase'>"
      ]
     },
     "execution_count": 38,
     "metadata": {},
     "output_type": "execute_result"
    },
    {
     "data": {
      "image/png": "[encoded data removed]",
      "text/plain": [
       "<Figure size 1000x800 with 1 Axes>"
      ]
     },
     "metadata": {},
     "output_type": "display_data"
    }
   ],
   "source": [
    "plt.figure(figsize=(10,8))\n",
    "sns.barplot(x='Occupation',y='Purchase',hue = 'Gender', data=df)"
   ]
  },
  {
   "cell_type": "code",
   "execution_count": null,
   "id": "8d1638d2",
   "metadata": {
    "papermill": {
     "duration": 0.029227,
     "end_time": "2023-05-31T13:21:43.025059",
     "exception": false,
     "start_time": "2023-05-31T13:21:42.995832",
     "status": "completed"
    },
    "tags": []
   },
   "outputs": [],
   "source": []
  },
  {
   "cell_type": "code",
   "execution_count": null,
   "id": "5a67ac40",
   "metadata": {
    "papermill": {
     "duration": 0.029073,
     "end_time": "2023-05-31T13:21:43.083818",
     "exception": false,
     "start_time": "2023-05-31T13:21:43.054745",
     "status": "completed"
    },
    "tags": []
   },
   "outputs": [],
   "source": []
  },
  {
   "cell_type": "code",
   "execution_count": null,
   "id": "c69b8a86",
   "metadata": {
    "papermill": {
     "duration": 0.030237,
     "end_time": "2023-05-31T13:21:43.143864",
     "exception": false,
     "start_time": "2023-05-31T13:21:43.113627",
     "status": "completed"
    },
    "tags": []
   },
   "outputs": [],
   "source": []
  },
  {
   "cell_type": "code",
   "execution_count": null,
   "id": "9b1ae004",
   "metadata": {
    "papermill": {
     "duration": 0.029677,
     "end_time": "2023-05-31T13:21:43.202848",
     "exception": false,
     "start_time": "2023-05-31T13:21:43.173171",
     "status": "completed"
    },
    "tags": []
   },
   "outputs": [],
   "source": []
  },
  {
   "cell_type": "code",
   "execution_count": null,
   "id": "2603cf22",
   "metadata": {
    "papermill": {
     "duration": 0.02918,
     "end_time": "2023-05-31T13:21:43.262093",
     "exception": false,
     "start_time": "2023-05-31T13:21:43.232913",
     "status": "completed"
    },
    "tags": []
   },
   "outputs": [],
   "source": []
  },
  {
   "cell_type": "code",
   "execution_count": null,
   "id": "a4fa2d04",
   "metadata": {
    "papermill": {
     "duration": 0.029619,
     "end_time": "2023-05-31T13:21:43.321042",
     "exception": false,
     "start_time": "2023-05-31T13:21:43.291423",
     "status": "completed"
    },
    "tags": []
   },
   "outputs": [],
   "source": []
  },
  {
   "cell_type": "code",
   "execution_count": null,
   "id": "3ae5a892",
   "metadata": {
    "papermill": {
     "duration": 0.029632,
     "end_time": "2023-05-31T13:21:43.380420",
     "exception": false,
     "start_time": "2023-05-31T13:21:43.350788",
     "status": "completed"
    },
    "tags": []
   },
   "outputs": [],
   "source": []
  },
  {
   "cell_type": "code",
   "execution_count": null,
   "id": "9264e407",
   "metadata": {
    "papermill": {
     "duration": 0.029004,
     "end_time": "2023-05-31T13:21:43.440861",
     "exception": false,
     "start_time": "2023-05-31T13:21:43.411857",
     "status": "completed"
    },
    "tags": []
   },
   "outputs": [],
   "source": []
  },
  {
   "cell_type": "code",
   "execution_count": null,
   "id": "03dd415c",
   "metadata": {
    "papermill": {
     "duration": 0.029016,
     "end_time": "2023-05-31T13:21:43.499190",
     "exception": false,
     "start_time": "2023-05-31T13:21:43.470174",
     "status": "completed"
    },
    "tags": []
   },
   "outputs": [],
   "source": []
  },
  {
   "cell_type": "code",
   "execution_count": null,
   "id": "253f69d4",
   "metadata": {
    "papermill": {
     "duration": 0.028896,
     "end_time": "2023-05-31T13:21:43.557850",
     "exception": false,
     "start_time": "2023-05-31T13:21:43.528954",
     "status": "completed"
    },
    "tags": []
   },
   "outputs": [],
   "source": []
  },
  {
   "cell_type": "code",
   "execution_count": null,
   "id": "c38860f4",
   "metadata": {
    "papermill": {
     "duration": 0.028994,
     "end_time": "2023-05-31T13:21:43.616720",
     "exception": false,
     "start_time": "2023-05-31T13:21:43.587726",
     "status": "completed"
    },
    "tags": []
   },
   "outputs": [],
   "source": []
  },
  {
   "cell_type": "code",
   "execution_count": null,
   "id": "7b2769ee",
   "metadata": {
    "papermill": {
     "duration": 0.028925,
     "end_time": "2023-05-31T13:21:43.675534",
     "exception": false,
     "start_time": "2023-05-31T13:21:43.646609",
     "status": "completed"
    },
    "tags": []
   },
   "outputs": [],
   "source": []
  },
  {
   "cell_type": "code",
   "execution_count": null,
   "id": "fc5ebee1",
   "metadata": {
    "papermill": {
     "duration": 0.029408,
     "end_time": "2023-05-31T13:21:43.734487",
     "exception": false,
     "start_time": "2023-05-31T13:21:43.705079",
     "status": "completed"
    },
    "tags": []
   },
   "outputs": [],
   "source": []
  },
  {
   "cell_type": "code",
   "execution_count": null,
   "id": "daafdbd8",
   "metadata": {
    "papermill": {
     "duration": 0.029168,
     "end_time": "2023-05-31T13:21:43.792866",
     "exception": false,
     "start_time": "2023-05-31T13:21:43.763698",
     "status": "completed"
    },
    "tags": []
   },
   "outputs": [],
   "source": []
  },
  {
   "cell_type": "code",
   "execution_count": null,
   "id": "6ebe146f",
   "metadata": {
    "papermill": {
     "duration": 0.029093,
     "end_time": "2023-05-31T13:21:43.851389",
     "exception": false,
     "start_time": "2023-05-31T13:21:43.822296",
     "status": "completed"
    },
    "tags": []
   },
   "outputs": [],
   "source": []
  },
  {
   "cell_type": "code",
   "execution_count": null,
   "id": "4552993c",
   "metadata": {
    "papermill": {
     "duration": 0.028966,
     "end_time": "2023-05-31T13:21:43.910791",
     "exception": false,
     "start_time": "2023-05-31T13:21:43.881825",
     "status": "completed"
    },
    "tags": []
   },
   "outputs": [],
   "source": []
  },
  {
   "cell_type": "code",
   "execution_count": null,
   "id": "13b890f4",
   "metadata": {
    "papermill": {
     "duration": 0.02885,
     "end_time": "2023-05-31T13:21:43.968847",
     "exception": false,
     "start_time": "2023-05-31T13:21:43.939997",
     "status": "completed"
    },
    "tags": []
   },
   "outputs": [],
   "source": []
  },
  {
   "cell_type": "code",
   "execution_count": null,
   "id": "77524349",
   "metadata": {
    "papermill": {
     "duration": 0.028876,
     "end_time": "2023-05-31T13:21:44.027041",
     "exception": false,
     "start_time": "2023-05-31T13:21:43.998165",
     "status": "completed"
    },
    "tags": []
   },
   "outputs": [],
   "source": []
  },
  {
   "cell_type": "code",
   "execution_count": null,
   "id": "cc578f80",
   "metadata": {
    "papermill": {
     "duration": 0.028818,
     "end_time": "2023-05-31T13:21:44.085121",
     "exception": false,
     "start_time": "2023-05-31T13:21:44.056303",
     "status": "completed"
    },
    "tags": []
   },
   "outputs": [],
   "source": []
  }
 ],
 "metadata": {
  "kernelspec": {
   "display_name": "Python 3",
   "language": "python",
   "name": "python3"
  },
  "language_info": {
   "codemirror_mode": {
    "name": "ipython",
    "version": 3
   },
   "file_extension": ".py",
   "mimetype": "text/x-python",
   "name": "python",
   "nbconvert_exporter": "python",
   "pygments_lexer": "ipython3",
   "version": "3.10.10"
  },
  "papermill": {
   "default_parameters": {},
   "duration": 138.797552,
   "end_time": "2023-05-31T13:21:45.742036",
   "environment_variables": {},
   "exception": null,
   "input_path": "__notebook__.ipynb",
   "output_path": "__notebook__.ipynb",
   "parameters": {},
   "start_time": "2023-05-31T13:19:26.944484",
   "version": "2.4.0"
  }
 },
 "nbformat": 4,
 "nbformat_minor": 5
}
